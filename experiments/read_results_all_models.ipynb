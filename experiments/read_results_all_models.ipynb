{
 "cells": [
  {
   "cell_type": "code",
   "execution_count": 1,
   "metadata": {},
   "outputs": [],
   "source": [
    "import numpy as np\n",
    "import pandas as pd\n",
    "from IPython.display import display, Markdown\n",
    "import glob\n",
    "import numpy as np\n",
    "import pandas as pd\n",
    "from sklearn.metrics import accuracy_score, f1_score, confusion_matrix, precision_score, recall_score\n",
    "import os"
   ]
  },
  {
   "cell_type": "code",
   "execution_count": 2,
   "metadata": {},
   "outputs": [],
   "source": [
    "# models = [\"FBCSP_SVM\", \"DeepConvNet\", \"EEGNet\", \"SpectralSpatialCNN\", \"MIN2Net_original\", \"MixNet\"]\n",
    "models = [\"DeepConvNet\", \"EEGNet\"] # Define list of your trained models \n",
    "datasets  = ['HighGamma'] # Define list of datasets used \n",
    "task = \"subject_dependent\"\n",
    "result_path = \"logs\" # Path to read\n",
    "save_path = \"logs/\" # Path to save"
   ]
  },
  {
   "cell_type": "code",
   "execution_count": 3,
   "metadata": {},
   "outputs": [],
   "source": [
    "if not os.path.exists(save_path):\n",
    "    os.makedirs(save_path)"
   ]
  },
  {
   "cell_type": "code",
   "execution_count": 4,
   "metadata": {},
   "outputs": [],
   "source": [
    "def load_y(path, subject):\n",
    "    y_true, y_pred = [], []\n",
    "    for subject in range(1,n_subjects+1):\n",
    "        data = np.load(os.path.join(path, 'S{:03d}_Y_results.npz'.format(subject)), allow_pickle=True)\n",
    "        y_true.append(data['y_true'])\n",
    "        y_pred.append(data['y_pred'])\n",
    "    return np.array(y_true), np.array(y_pred)\n",
    "\n",
    "def eval_metric(y_true, y_pred, average='macro'):\n",
    "    f1, acc, pre, rec = [], [], [], []\n",
    "    for y_t, y_p in zip(y_true, y_pred):\n",
    "        f1.append(f1_score(y_t, y_p, average=average))\n",
    "        acc.append(accuracy_score(y_t, y_p))\n",
    "    f1 = np.array(f1)\n",
    "    acc = np.array(acc)\n",
    "    return acc, f1"
   ]
  },
  {
   "cell_type": "code",
   "execution_count": 5,
   "metadata": {},
   "outputs": [
    {
     "name": "stdout",
     "output_type": "stream",
     "text": [
      "The logs path being used now is:  logs/DeepConvNet/subject_dependent_2_classes_HighGamma/\n",
      "The logs path being used now is:  logs/EEGNet/subject_dependent_2_classes_HighGamma/\n"
     ]
    },
    {
     "data": {
      "text/html": [
       "<div>\n",
       "<style scoped>\n",
       "    .dataframe tbody tr th:only-of-type {\n",
       "        vertical-align: middle;\n",
       "    }\n",
       "\n",
       "    .dataframe tbody tr th {\n",
       "        vertical-align: top;\n",
       "    }\n",
       "\n",
       "    .dataframe thead th {\n",
       "        text-align: right;\n",
       "    }\n",
       "</style>\n",
       "<table border=\"1\" class=\"dataframe\">\n",
       "  <thead>\n",
       "    <tr style=\"text-align: right;\">\n",
       "      <th></th>\n",
       "      <th>Dataset</th>\n",
       "      <th>Models</th>\n",
       "      <th>Accuracy</th>\n",
       "      <th>F1-score</th>\n",
       "    </tr>\n",
       "  </thead>\n",
       "  <tbody>\n",
       "    <tr>\n",
       "      <th>0</th>\n",
       "      <td>HighGamma</td>\n",
       "      <td>DeepConvNet</td>\n",
       "      <td>71.75 ± 20.04</td>\n",
       "      <td>70.08 ± 21.81</td>\n",
       "    </tr>\n",
       "    <tr>\n",
       "      <th>1</th>\n",
       "      <td>HighGamma</td>\n",
       "      <td>EEGNet</td>\n",
       "      <td>70.80 ± 19.50</td>\n",
       "      <td>69.62 ± 20.84</td>\n",
       "    </tr>\n",
       "  </tbody>\n",
       "</table>\n",
       "</div>"
      ],
      "text/plain": [
       "     Dataset       Models       Accuracy       F1-score\n",
       "0  HighGamma  DeepConvNet  71.75 ± 20.04  70.08 ± 21.81\n",
       "1  HighGamma       EEGNet  70.80 ± 19.50  69.62 ± 20.84"
      ]
     },
     "metadata": {},
     "output_type": "display_data"
    }
   ],
   "source": [
    "frames = []\n",
    "for dataset in datasets:\n",
    "    df_list_acc = []\n",
    "    df_list_f1 = []\n",
    "    for model in models:\n",
    "        results = []\n",
    "        index = []\n",
    "        log_path = glob.glob('{}/{}/{}_2_classes_{}*/'.format(result_path, model, task, dataset))[0]\n",
    "        print('The logs path being used now is: ', log_path)\n",
    "        for subject in range(0,55):\n",
    "            try:\n",
    "\n",
    "                data = np.load(log_path+'S{:03d}_prediction_results.npy'.format(subject), allow_pickle=True)\n",
    "                y_true = [data[i]['y_true'] for i in range(len(data))]\n",
    "                y_pred = [data[j]['y_pred'] for j in range(len(data))] \n",
    "                acc, f1= eval_metric(y_true, y_pred, average='macro')\n",
    "                results.append([acc.T, f1.T])\n",
    "\n",
    "            except:\n",
    "                pass\n",
    "\n",
    "        results = np.array(results)\n",
    "        dfx_acc = pd.DataFrame(results[:,0].reshape(-1,1), columns = ['accuracy'])\n",
    "        dfx_f1 = pd.DataFrame(results[:,1].reshape(-1,1), columns = ['f1-score'])\n",
    "        df_list_acc.append(dfx_acc)\n",
    "        df_list_f1.append(dfx_f1)\n",
    "    dfx_cat_acc = pd.concat(df_list_acc, axis=1, join='outer')\n",
    "    dfx_cat_f1 = pd.concat(df_list_f1, axis=1, join='outer')\n",
    "    dfx_cat = pd.concat([dfx_cat_acc, dfx_cat_f1], axis=1, join='outer')\n",
    "    \n",
    "    # If you wanna save all results from all folds, please remove the comment (#) from the below code\n",
    "    # dfx_cat.to_csv(save_path+'merge_'+dataset+'_'+task+'.csv', index=False)\n",
    "    if len(datasets) == 1 and len(models) == 1:\n",
    "        acc_s  = zip([dfx_cat['accuracy'].mean()*100], [dfx_cat['accuracy'].std()*100])\n",
    "        f1_s = zip([dfx_cat['f1-score'].mean()*100], [dfx_cat['f1-score'].std()*100])\n",
    "    else:\n",
    "        acc_s  = zip(dfx_cat['accuracy'].mean()*100, dfx_cat['accuracy'].std()*100)\n",
    "        f1_s = zip(dfx_cat['f1-score'].mean()*100, dfx_cat['f1-score'].std()*100)\n",
    "    \n",
    "    acc_text = ['{:0.2f} \\u00B1 {:0.2f}'.format(a, sd) for a, sd in acc_s]\n",
    "    f1_text = ['{:0.2f} \\u00B1 {:0.2f}'.format(a, sd) for a, sd in f1_s]\n",
    "    \n",
    "    text = np.array([[dataset]*len(models), models, acc_text, f1_text]).T\n",
    "    \n",
    "    frames.append(pd.DataFrame(text, columns = ['Dataset', 'Models', 'Accuracy', 'F1-score']))\n",
    "    \n",
    "display(pd.concat(frames))       "
   ]
  },
  {
   "cell_type": "code",
   "execution_count": null,
   "metadata": {},
   "outputs": [],
   "source": []
  }
 ],
 "metadata": {
  "kernelspec": {
   "display_name": "Python 3 (ipykernel)",
   "language": "python",
   "name": "python3"
  },
  "language_info": {
   "codemirror_mode": {
    "name": "ipython",
    "version": 3
   },
   "file_extension": ".py",
   "mimetype": "text/x-python",
   "name": "python",
   "nbconvert_exporter": "python",
   "pygments_lexer": "ipython3",
   "version": "3.8.10"
  }
 },
 "nbformat": 4,
 "nbformat_minor": 4
}
